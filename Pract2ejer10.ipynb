{
 "cells": [
  {
   "cell_type": "markdown",
   "id": "a3bd81e1",
   "metadata": {},
   "source": [
    "primero abro los archivos correspondientes a usar"
   ]
  },
  {
   "cell_type": "code",
   "execution_count": null,
   "id": "cc9e586a",
   "metadata": {},
   "outputs": [],
   "source": [
    "arch_nom = open('nombres_1.txt','r',encoding='UTF-8')\n",
    "arch_eval1 = open('eval1.txt','r',encoding='UTF-8')\n",
    "arch_eval2 = open('eval2.txt','r',encoding='UTF-8')"
   ]
  },
  {
   "cell_type": "markdown",
   "id": "873ecb47",
   "metadata": {},
   "source": [
    "luego leo el contenido de los archivos en variables y uso split para que las variables sean listas con el contenido de los archivos y en el caso de eval1 y eval2 hago split ',' para transformalos luego a int mas facil"
   ]
  },
  {
   "cell_type": "code",
   "execution_count": null,
   "id": "cece0963",
   "metadata": {},
   "outputs": [],
   "source": [
    "nombres = arch_nom.read().split()\n",
    "eval1 = arch_eval1.read().split(',')\n",
    "eval2 = arch_eval2.read().split(',')"
   ]
  },
  {
   "cell_type": "markdown",
   "id": "3dd1e44e",
   "metadata": {},
   "source": [
    "creo las estructuras que voy a usar,notas una lista que tendra las notas de eval1 y eval2 sumadas,alumnos un diccionario que para cada nombre de alumno tenga la suma de sus notas y total que sumara todas las notas para sacar el promedio"
   ]
  },
  {
   "cell_type": "code",
   "execution_count": null,
   "id": "dcb8cdcd",
   "metadata": {},
   "outputs": [],
   "source": [
    "notas = []\n",
    "alumnos = {}\n",
    "total = 0"
   ]
  },
  {
   "cell_type": "markdown",
   "id": "d1432fa4",
   "metadata": {},
   "source": [
    "recorro eval1 y eval2 sumando el elemento numero elem de una con la otra(habiendolos transformado en int) y ese resultado es el que guardo en notas"
   ]
  },
  {
   "cell_type": "code",
   "execution_count": null,
   "id": "42450843",
   "metadata": {},
   "outputs": [],
   "source": [
    "for elem in range(len(eval1)):\n",
    "    notas.append(int(eval1[elem]) + int(eval2[elem]))"
   ]
  },
  {
   "cell_type": "markdown",
   "id": "110cc58c",
   "metadata": {},
   "source": [
    "despues recorro notas y nombres guardando en el diccionario alumnos como key el nombre(de la lista nombres) del alumno y como dato su correspondiente nota(de la lista notas) y de paso voy sumando cada nota en total para al terminar el for sacar el promedio"
   ]
  },
  {
   "cell_type": "code",
   "execution_count": null,
   "id": "755c7ab9",
   "metadata": {},
   "outputs": [],
   "source": [
    "for elem in range(len(notas)):\n",
    "    alumnos[nombres[elem]] = notas[elem]\n",
    "    total = total + notas[elem]\n",
    "\n",
    "promedio = total / len(alumnos)"
   ]
  },
  {
   "cell_type": "markdown",
   "id": "759c208c",
   "metadata": {},
   "source": [
    "luego recorro el diccionario alumnos mostrando el nombre de cada alumno que no supera la nota promedio"
   ]
  },
  {
   "cell_type": "code",
   "execution_count": null,
   "id": "badbfd34",
   "metadata": {},
   "outputs": [],
   "source": [
    "for elem in alumnos:\n",
    "    if alumnos[elem] < promedio:\n",
    "        print(f'el alumno {elem} no supera el promedio de nota')"
   ]
  },
  {
   "cell_type": "markdown",
   "id": "c76f021d",
   "metadata": {},
   "source": [
    "y por ultimo cierro los archivos abiertos al principio del programa"
   ]
  },
  {
   "cell_type": "code",
   "execution_count": null,
   "id": "b2d29b93",
   "metadata": {},
   "outputs": [],
   "source": [
    "arch_nom.close()\n",
    "arch_eval1.close()\n",
    "arch_eval2.close()"
   ]
  }
 ],
 "metadata": {
  "kernelspec": {
   "display_name": "Python 3 (ipykernel)",
   "language": "python",
   "name": "python3"
  },
  "language_info": {
   "codemirror_mode": {
    "name": "ipython",
    "version": 3
   },
   "file_extension": ".py",
   "mimetype": "text/x-python",
   "name": "python",
   "nbconvert_exporter": "python",
   "pygments_lexer": "ipython3",
   "version": "3.10.0"
  }
 },
 "nbformat": 4,
 "nbformat_minor": 5
}
